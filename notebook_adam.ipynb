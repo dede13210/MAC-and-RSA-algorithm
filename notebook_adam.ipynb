{
 "cells": [
  {
   "cell_type": "code",
   "execution_count": 4,
   "metadata": {},
   "outputs": [
    {
     "name": "stdout",
     "output_type": "stream",
     "text": [
      "01100000000111110110011000000000\n"
     ]
    }
   ],
   "source": [
    "import random\n",
    "\n",
    "def generate_k_bit_key(k):\n",
    "    # Generate a random k-bit integer\n",
    "    key = random.getrandbits(k)\n",
    "    # Convert the integer to a k-bit binary string\n",
    "    key_str = format(key, '0' + str(k) + 'b')\n",
    "    return key_str\n",
    "\n",
    "\n",
    "\n",
    "def xor_k_bit_key_and_message(k, m):\n",
    "    # Ensure both k and m are 32 bits long\n",
    "    if len(k)!=len(m):\n",
    "        raise ValueError(\"k and m must be same length\")\n",
    "    \n",
    "    # Perform XOR operation\n",
    "    result = ''.join('1' if k[i] != m[i] else '0' for i in range(len(k)))\n",
    "    return result\n",
    "\n",
    "# Example usage:\n",
    "key = '10101100110100111010101011001100'\n",
    "message = '11001100110011001100110011001100'\n",
    "\n",
    "xor_result = xor_k_bit_key_and_message(key, message)\n",
    "print(xor_result)"
   ]
  }
 ],
 "metadata": {
  "kernelspec": {
   "display_name": "Python 3",
   "language": "python",
   "name": "python3"
  },
  "language_info": {
   "codemirror_mode": {
    "name": "ipython",
    "version": 3
   },
   "file_extension": ".py",
   "mimetype": "text/x-python",
   "name": "python",
   "nbconvert_exporter": "python",
   "pygments_lexer": "ipython3",
   "version": "3.11.5"
  }
 },
 "nbformat": 4,
 "nbformat_minor": 2
}
